{
 "cells": [
  {
   "cell_type": "code",
   "execution_count": 1,
   "id": "1772503e",
   "metadata": {},
   "outputs": [
    {
     "name": "stdout",
     "output_type": "stream",
     "text": [
      "original total files: 3453\n"
     ]
    }
   ],
   "source": [
    "import os\n",
    "\n",
    "original_file_list = os.listdir('../FTP_gbm/')\n",
    "original_file_list.sort()\n",
    "\n",
    "print('original total files:', len(original_file_list))"
   ]
  },
  {
   "cell_type": "code",
   "execution_count": 2,
   "id": "272b4765",
   "metadata": {
    "scrolled": true
   },
   "outputs": [
    {
     "name": "stderr",
     "output_type": "stream",
     "text": [
      "/Users/jasonpbu/Desktop/Master/#Master_paper/GRB_lightcurve/gbm_py/gbm_data_tools-1.1.1/gbm/plot/lal_post_subs.py:184: UserWarning: Basemap not installed. Some functionality not available.\n",
      "  warnings.warn('Basemap not installed. Some functionality not available.')\n"
     ]
    },
    {
     "name": "stdout",
     "output_type": "stream",
     "text": [
      "bad files: 92\n"
     ]
    }
   ],
   "source": [
    "from gbm.data import Trigdat\n",
    "\n",
    "bad_file_list = []\n",
    "for file in original_file_list:\n",
    "    try:\n",
    "        Trigdat.open(f'../FTP_gbm/{file}')\n",
    "    except:\n",
    "        bad_file_list.append(file)\n",
    "\n",
    "print('bad files:', len(bad_file_list))"
   ]
  },
  {
   "cell_type": "code",
   "execution_count": 3,
   "id": "8fc9c47e",
   "metadata": {},
   "outputs": [
    {
     "name": "stdout",
     "output_type": "stream",
     "text": [
      ".DS_Store\n",
      "glg_trigdat_all_bn080714086_v01.fit\n",
      "glg_trigdat_all_bn080714425_v01.fit\n",
      "glg_trigdat_all_bn080714745_v01.fit\n",
      "glg_trigdat_all_bn080715950_v01.fit\n",
      "glg_trigdat_all_bn080717543_v01.fit\n",
      "glg_trigdat_all_bn080719529_v01.fit\n",
      "glg_trigdat_all_bn080723557_v01.fit\n",
      "glg_trigdat_all_bn080723913_v01.fit\n",
      "glg_trigdat_all_bn080723985_v01.fit\n",
      "glg_trigdat_all_bn080724401_v01.fit\n",
      "glg_trigdat_all_bn080725435_v01.fit\n",
      "glg_trigdat_all_bn080725541_v01.fit\n",
      "glg_trigdat_all_bn080727964_v01.fit\n",
      "glg_trigdat_all_bn080730520_v01.fit\n",
      "glg_trigdat_all_bn080730786_v01.fit\n",
      "glg_trigdat_all_bn080802386_v02.fit\n",
      "glg_trigdat_all_bn080803772_v01.fit\n",
      "glg_trigdat_all_bn080804456_v02.fit\n",
      "glg_trigdat_all_bn080804972_v02.fit\n",
      "glg_trigdat_all_bn080805496_v01.fit\n",
      "glg_trigdat_all_bn080805584_v01.fit\n",
      "glg_trigdat_all_bn080806584_v01.fit\n",
      "glg_trigdat_all_bn080806896_v01.fit\n",
      "glg_trigdat_all_bn080807993_v01.fit\n",
      "glg_trigdat_all_bn080808451_v01.fit\n",
      "glg_trigdat_all_bn080808565_v01.fit\n",
      "glg_trigdat_all_bn080808772_v01.fit\n",
      "glg_trigdat_all_bn080809808_v01.fit\n",
      "glg_trigdat_all_bn080810549_v02.fit\n",
      "glg_trigdat_all_bn080812889_v02.fit\n",
      "glg_trigdat_all_bn080815917_v01.fit\n",
      "glg_trigdat_all_bn080816503_v01.fit\n",
      "glg_trigdat_all_bn080816989_v01.fit\n",
      "glg_trigdat_all_bn080817161_v06.fit\n",
      "glg_trigdat_all_bn080817720_v01.fit\n",
      "glg_trigdat_all_bn080818579_v01.fit\n",
      "glg_trigdat_all_bn080818945_v01.fit\n",
      "glg_trigdat_all_bn080821332_v01.fit\n",
      "glg_trigdat_all_bn080823363_v01.fit\n",
      "glg_trigdat_all_bn080824909_v01.fit\n",
      "glg_trigdat_all_bn080825593_v01.fit\n",
      "glg_trigdat_all_bn080828189_v01.fit\n",
      "glg_trigdat_all_bn080829790_v01.fit\n",
      "glg_trigdat_all_bn080830368_v01.fit\n",
      "glg_trigdat_all_bn080831053_v01.fit\n",
      "glg_trigdat_all_bn080831921_v01.fit\n",
      "glg_trigdat_all_bn080904886_v01.fit\n",
      "glg_trigdat_all_bn080905499_v01.fit\n",
      "glg_trigdat_all_bn080905570_v01.fit\n",
      "glg_trigdat_all_bn080905705_v01.fit\n",
      "glg_trigdat_all_bn080906212_v01.fit\n",
      "glg_trigdat_all_bn080912360_v01.fit\n",
      "glg_trigdat_all_bn080913735_v01.fit\n",
      "glg_trigdat_all_bn080916009_v02.fit\n",
      "glg_trigdat_all_bn080916406_v02.fit\n",
      "glg_trigdat_all_bn080919790_v01.fit\n",
      "glg_trigdat_all_bn080920268_v01.fit\n",
      "glg_trigdat_all_bn080924766_v01.fit\n",
      "glg_trigdat_all_bn080925775_v02.fit\n",
      "glg_trigdat_all_bn080927480_v01.fit\n",
      "glg_trigdat_all_bn080928628_v03.fit\n",
      "glg_trigdat_all_bn081024245_v01.fit\n",
      "glg_trigdat_all_bn081101167_v01.fit\n",
      "glg_trigdat_all_bn081101491_v02.fit\n",
      "glg_trigdat_all_bn081209981_v01.fit\n",
      "glg_trigdat_all_bn090626707_v02.fit\n",
      "glg_trigdat_all_bn090726218_v01.fit\n",
      "glg_trigdat_all_bn090920035_v01.fit\n",
      "glg_trigdat_all_bn091013989_v01.fit\n",
      "glg_trigdat_all_bn100306199_v01.fit\n",
      "glg_trigdat_all_bn100713980_v01.fit\n",
      "glg_trigdat_all_bn100924165_v01.fit\n",
      "glg_trigdat_all_bn110108977_v00.fit\n",
      "glg_trigdat_all_bn110517902_v01.fit\n",
      "glg_trigdat_all_bn110817191_v01.fit\n",
      "glg_trigdat_all_bn111105457_v01.fit\n",
      "glg_trigdat_all_bn130909817_v01.fit\n",
      "glg_trigdat_all_bn140115899_v02.fit\n",
      "glg_trigdat_all_bn140219319_v01.fit\n",
      "glg_trigdat_all_bn140501139_v01.fit\n",
      "glg_trigdat_all_bn140912664_v01.fit\n",
      "glg_trigdat_all_bn171119992_v01.fit\n",
      "glg_trigdat_all_bn180128252_v02.fit\n",
      "glg_trigdat_all_bn180205184_v06.fit\n",
      "glg_trigdat_all_bn200126466_v01.fit\n",
      "glg_trigdat_all_bn200809654_v03.fit\n",
      "glg_trigdat_all_bn201128746_v01.fit\n",
      "glg_trigdat_all_bn201223173_v01.fit\n",
      "glg_trigdat_all_bn210308276_v03.fit\n",
      "glg_trigdat_all_bn210402920_v02.fit\n",
      "glg_trigdat_all_bn210602865_v01.fit\n"
     ]
    }
   ],
   "source": [
    "for bad_file in bad_file_list:\n",
    "    print(bad_file)"
   ]
  },
  {
   "cell_type": "code",
   "execution_count": 4,
   "id": "90af9f90",
   "metadata": {},
   "outputs": [
    {
     "name": "stdout",
     "output_type": "stream",
     "text": [
      "good files: 3361\n"
     ]
    }
   ],
   "source": [
    "good_file_list = [file for file in original_file_list if file not in bad_file_list]\n",
    "\n",
    "print('good files:', len(good_file_list))"
   ]
  },
  {
   "cell_type": "code",
   "execution_count": 5,
   "id": "e8e8e38b",
   "metadata": {},
   "outputs": [],
   "source": [
    "# from gbm.plot import Lightcurve\n",
    "\n",
    "# for file in good_file_list:\n",
    "#     trigdat = Trigdat.open(f'../FTP_gbm/{file}')\n",
    "    \n",
    "#     trig_dets = trigdat.triggered_detectors\n",
    "#     summed_phaii = trigdat.sum_detectors(trig_dets, timescale=1024) # possible options for src timescale is 64, 256, or 1024 ms\n",
    "    \n",
    "#     erange = (50.0, 300.0) # keV, recommendation is (8.0, 900.0)\n",
    "#     lc_data = summed_phaii.to_lightcurve(energy_range=erange)\n",
    "#     lcplot = Lightcurve(data=lc_data)\n",
    "#     lcplot._figure.savefig(f'../all_lightcurve/{file}.png')"
   ]
  }
 ],
 "metadata": {
  "kernelspec": {
   "display_name": "Python [conda env:env_gbm]",
   "language": "python",
   "name": "conda-env-env_gbm-py"
  },
  "language_info": {
   "codemirror_mode": {
    "name": "ipython",
    "version": 3
   },
   "file_extension": ".py",
   "mimetype": "text/x-python",
   "name": "python",
   "nbconvert_exporter": "python",
   "pygments_lexer": "ipython3",
   "version": "3.10.9"
  }
 },
 "nbformat": 4,
 "nbformat_minor": 5
}
